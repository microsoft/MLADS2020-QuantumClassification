{
 "cells": [
  {
   "cell_type": "markdown",
   "metadata": {},
   "source": [
    "# Inside Quantum Classifiers\n",
    "\n",
    "This tutorial offers a deep dive in the internals of quantum classifiers and several exercises on solving a simple classification problem from scratch. You will learn how to build a simple classifier by hand and how to train a simple model using the [quantum machine learning library](https://docs.microsoft.com/quantum/libraries/machine-learning/) that is part of the Microsoft Quantum Development Kit. \n",
    "\n",
    "The companion Python notebook [Exploring Quantum Classification Library](./ExploringQuantumClassificationLibrary.ipynb) offers a high-level walkthrough of solving the same classification problem.\n",
    "\n",
    "### Prerequisites\n",
    "\n",
    "We recommend you to get familiar with the basics of quantum computing and quantum programming before attempting this tutorial. It relies on the concepts of superposition and measurement, as well as the basic knowledge of quantum gates and circuits.\n",
    "\n",
    "* You can use the [tutorials](https://github.com/Microsoft/QuantumKatas/#list-of-tutorials-) offered by the Quantum Katas project to learn the basics and their representation in Q#.\n",
    "* Alternatively, [Microsoft Quantum Development Kit documentation](https://docs.microsoft.com/quantum) covers a lot of introductory topics.\n",
    "\n",
    "To start, execute the cell below to load the [Microsoft.Quantum.MachineLearning package](https://docs.microsoft.com/en-us/qsharp/api/qsharp/microsoft.quantum.machinelearning) \n",
    "which provides the necessary functionality."
   ]
  },
  {
   "cell_type": "code",
   "execution_count": 23,
   "metadata": {},
   "outputs": [
    {
     "data": {
      "application/json": "{\"LastUpdated\":\"2020-05-31T19:45:42.4343334-07:00\",\"IsCompleted\":true,\"Description\":\"Adding package Microsoft.Quantum.MachineLearning::0.11.2004.2825\",\"Subtask\":\"done\"}",
      "text/plain": [
       "Adding package Microsoft.Quantum.MachineLearning::0.11.2004.2825: done!"
      ]
     },
     "metadata": {},
     "output_type": "display_data"
    },
    {
     "data": {
      "application/json": "[\"Microsoft.Quantum.Standard::0.11.2004.2825\",\"Microsoft.Quantum.MachineLearning::0.11.2004.2825\"]",
      "text/html": [
       "<ul><li>Microsoft.Quantum.Standard::0.11.2004.2825</li><li>Microsoft.Quantum.MachineLearning::0.11.2004.2825</li></ul>"
      ],
      "text/plain": [
       "Microsoft.Quantum.Standard::0.11.2004.2825, Microsoft.Quantum.MachineLearning::0.11.2004.2825"
      ]
     },
     "execution_count": 23,
     "metadata": {},
     "output_type": "execute_result"
    }
   ],
   "source": [
    "%package Microsoft.Quantum.MachineLearning::0.11.2004.2825"
   ]
  },
  {
   "cell_type": "markdown",
   "metadata": {},
   "source": [
    "## Circuit-centric Quantum Classifiers: an Overview\n",
    "\n",
    "Circuit-centric quantum classifiers have the following structure:\n",
    "\n",
    "1. Data encoding.  \n",
    "The features of a data sample are encoded as the amplitudes of a quantum state. This state further serves as the input to the classification circuit. The encoding is parameter-free and uses only the raw data of the sample.\n",
    "\n",
    "2. Classification model circuit.  \n",
    "The classification circuit is a small-depth circuit of single-qubit rotations and two-qubit controlled rotations. \n",
    "The circuit geometry (the sequence of the rotations and the qubits to which they are applied) is fixed for the model, and the parameters of the model (the rotation angles) are learned during the training phase.\n",
    "\n",
    "3. Measurement.  \n",
    "Applying the classification circuit to the data encoded as a quantum state yields the final quantum state. \n",
    "Measuring the \"output\" qubit of that state allows us to get a classical result - 0 or 1. \n",
    "However, that is not the final classification result yet...\n",
    "\n",
    "4. Result interpretation.  \n",
    "The steps 1-3 are repeated multiple times to estimate the probability of getting 0 or 1 in the final measurement.\n",
    "This probability is compared with a threshold (classifier bias) to produce the final classification result.\n",
    "\n",
    "You can read more about the theory behind curcuit-centric quantum classifiers in the [Microsoft QDK documentation](https://docs.microsoft.com/quantum/libraries/machine-learning/introduction) or in the [original paper](https://arxiv.org/abs/1804.00633). \n",
    "In this tutorial we will focus on walking through each step of the classification and training process and implementing them."
   ]
  },
  {
   "cell_type": "markdown",
   "metadata": {},
   "source": [
    "## The Raw Data\n",
    "\n",
    "Same as in the companion tutorial, we start by preparing the training and validation datasets. \n",
    "\n",
    "> Q# is a domain-specific programming language, designed to express quantum algorithms, but it supports a subset of classical language features sufficient for performing simple computations, such as data generation. When solving a real problem, you'll want to load the data from an external source before calling Q# code to process it.\n",
    "\n",
    "This Q# code follows the same data generation logic as the [Python code](./ExploringQuantumClassificationLibrary.ipynb#The-Data) in the companion notebook. \n",
    "There are two features, each of them is a real number from $[0, 1)$ range."
   ]
  },
  {
   "cell_type": "code",
   "execution_count": 18,
   "metadata": {},
   "outputs": [
    {
     "data": {
      "application/json": "[\"GenerateData\",\"SampleDataDemo\"]",
      "text/html": [
       "<ul><li>GenerateData</li><li>SampleDataDemo</li></ul>"
      ],
      "text/plain": [
       "GenerateData, SampleDataDemo"
      ]
     },
     "execution_count": 18,
     "metadata": {},
     "output_type": "execute_result"
    }
   ],
   "source": [
    "open Microsoft.Quantum.Math;\n",
    "\n",
    "operation GenerateData (samplesNumber : Int, separationAngles : Double[]) : (Double[][], Int[]) {\n",
    "    mutable features = new Double[][samplesNumber];\n",
    "    mutable labels = new Int[samplesNumber];\n",
    "    for (i in 0 .. samplesNumber - 1) {\n",
    "        let sample = [RandomReal(8), RandomReal(8)];\n",
    "        let angle = ArcTan2(sample[1], sample[0]);\n",
    "        set features w/= i <- sample;\n",
    "        set labels w/= i <- (angle < separationAngles[0] or angle > separationAngles[1]) ? 0 | 1;\n",
    "    }\n",
    "    return (features, labels);\n",
    "}\n",
    "\n",
    "operation SampleDataDemo () : Unit {\n",
    "    let trainingData = GenerateData(5, [PI() / 6.0, PI()/ 3.0]);\n",
    "    Message($\"{trainingData}\");\n",
    "}"
   ]
  },
  {
   "cell_type": "markdown",
   "metadata": {},
   "source": [
    "`%simulate` cells run the Q# code on a quantum simulator. Executing the following cell shows a small sample of data generated by the code above."
   ]
  },
  {
   "cell_type": "code",
   "execution_count": 19,
   "metadata": {
    "scrolled": true
   },
   "outputs": [
    {
     "name": "stdout",
     "output_type": "stream",
     "text": [
      "([[0.84765625,0.48046875],[0.6875,0.40234375],[0.03515625,0.3828125],[0.91796875,0.73046875],[0.8515625,0.453125]], [0,1,0,1,0])\n"
     ]
    },
    {
     "data": {
      "application/json": "{\"@type\":\"tuple\"}",
      "text/plain": [
       "()"
      ]
     },
     "execution_count": 19,
     "metadata": {},
     "output_type": "execute_result"
    }
   ],
   "source": [
    "%simulate SampleDataDemo"
   ]
  },
  {
   "cell_type": "markdown",
   "metadata": {},
   "source": [
    "## Data Encoding\n",
    "\n",
    "The first step of the quantum classification process is encoding the raw feature data into the amplitudes of a quantum state. \n",
    "\n",
    "> If you need a refresher on quantum state representation, see [Multi-qubit Systems tutorial](https://github.com/microsoft/QuantumKatas/tree/master/tutorials/MultiQubitSystems).\n",
    "\n",
    "An $n$-qubit quantum state can be described by $2^n$ amplitudes. \n",
    "If the data has $M$ features, it can be encoded in the amplitudes of a state with $n = \\lceil \\log_2 M \\rceil$ qubits. \n",
    "In general case the amplitudes can be complex, but for the purposes of data encoding it's sufficient to use only real amplitudes.\n",
    "\n",
    "In our case $M = 2$, so we can encode the features $(x_0, x_1)$ in the state of one qubit as the amplitudes of the basis states $|0\\rangle$ and $|1\\rangle$, respectively. \n",
    "The sum of squares of the amplitudes of the basis states has to be 1, so we'll have to normalize our data:\n",
    "\n",
    "$$(x_0, x_1) \\rightarrow |\\psi(x_0, x_1) \\rangle = \\tilde{x}_0 |0\\rangle + \\tilde{x}_1 |1\\rangle \\text{, where }\n",
    "\\tilde{x}_0 = \\frac{x_0}{\\sqrt{x_0^2 + x_1^2}}\\text{ and }\\tilde{x}_1 = \\frac{x_1}{\\sqrt{x_0^2 + x_1^2}}$$\n",
    "\n",
    "> Note that this encoding will lose part of the information: if we plot the data, multiple points $(x_0, x_1)$ will be encoded in the same $|\\psi(x_0, x_1) \\rangle$. Effectively only the angular data is preserved, and the data about the distance to the origin is lost. \n",
    "> <img src=\"./img/1-data-encoding.PNG\" width=300 alt=\"Two distinct data points are encoded as the same state\" />\n",
    "> If we need to preserve information about the distance to the origin (which is typically the case), we need to pre-process the data, adding an extra feature.\n",
    "> In this tutorial we'll omit this step for simplicity; the synthetic data we're using is chosen so that only the angular data defines the classification of the sample.\n",
    "\n",
    "To implement data encoding in Q#, we can use library routines \n",
    "[InputEncoder](https://docs.microsoft.com/qsharp/api/qsharp/microsoft.quantum.machinelearning.inputencoder) or \n",
    "[ApproximateInputEncoder](https://docs.microsoft.com/qsharp/api/qsharp/microsoft.quantum.machinelearning.approximateinputencoder).\n",
    "Here is what the results will look like for one sample:"
   ]
  },
  {
   "cell_type": "code",
   "execution_count": 44,
   "metadata": {},
   "outputs": [
    {
     "data": {
      "application/json": "[\"EncodeDataDemo\"]",
      "text/html": [
       "<ul><li>EncodeDataDemo</li></ul>"
      ],
      "text/plain": [
       "EncodeDataDemo"
      ]
     },
     "execution_count": 44,
     "metadata": {},
     "output_type": "execute_result"
    }
   ],
   "source": [
    "open Microsoft.Quantum.Arithmetic;\n",
    "open Microsoft.Quantum.Diagnostics;\n",
    "open Microsoft.Quantum.Math;\n",
    "open Microsoft.Quantum.MachineLearning;\n",
    "\n",
    "operation EncodeDataDemo () : Unit {\n",
    "    let sample = [RandomReal(8), RandomReal(8)];\n",
    "    Message($\"Raw data: {sample}\");\n",
    "    \n",
    "    let norm = Sqrt(sample[0] ^ 2.0 + sample[1] ^ 2.0);\n",
    "    Message($\"Normalized data: [{sample[0] / norm}, {sample[1] / norm}]\");\n",
    "    \n",
    "    using (q = Qubit()) {\n",
    "        let (_, encoder) = (InputEncoder(sample))!;\n",
    "        encoder(LittleEndian([q]));\n",
    "        Message(\"Encoded as a quantum state:\");\n",
    "        DumpMachine();\n",
    "        Reset(q);\n",
    "    }\n",
    "}"
   ]
  },
  {
   "cell_type": "code",
   "execution_count": 46,
   "metadata": {},
   "outputs": [
    {
     "name": "stdout",
     "output_type": "stream",
     "text": [
      "Raw data: [0.0703125,0.56640625]\n",
      "Normalized data: [0.12319234904975414, 0.9923828117896861]\n",
      "Encoded as a quantum state:\n"
     ]
    },
    {
     "data": {
      "application/json": "{\"QubitIds\":[0],\"NQubits\":1,\"Amplitudes\":[{\"Real\":0.12319234904975411,\"Imaginary\":0.0,\"Magnitude\":0.12319234904975411,\"Phase\":0.0},{\"Real\":0.9923828117896862,\"Imaginary\":0.0,\"Magnitude\":0.9923828117896862,\"Phase\":0.0}]}",
      "text/html": [
       "\r\n",
       "                    <table style=\"table-layout: fixed; width: 100%\">\r\n",
       "                        <thead>\r\n",
       "                            \r\n",
       "                        <tr>\r\n",
       "                            <th>Qubit IDs</th>\r\n",
       "                            <td span=\"3\">0</td>\r\n",
       "                        </tr>\r\n",
       "                    \r\n",
       "                            <tr>\r\n",
       "                                <th style=\"width: 20ch)\">Basis state (little endian)</th>\r\n",
       "                                <th style=\"width: 20ch\">Amplitude</th>\r\n",
       "                                <th style=\"width: calc(100% - 26ch - 20ch)\">Meas. Pr.</th>\r\n",
       "                                <th style=\"width: 6ch\">Phase</th>\r\n",
       "                            </tr>\r\n",
       "                        </thead>\r\n",
       "\r\n",
       "                        <tbody>\r\n",
       "                            \r\n",
       "                            <tr>\r\n",
       "                                <td>$\\left|0\\right\\rangle$</td>\r\n",
       "                                <td>$0.1232 + 0.0000 i$</td>\r\n",
       "                                <td>\r\n",
       "                                    <progress\r\n",
       "                                        max=\"100\"\r\n",
       "                                        value=\"1.5176354864396453\"\r\n",
       "                                        style=\"width: 100%;\"\r\n",
       "                                    >\r\n",
       "                                </td>\r\n",
       "                                <td style=\"transform: rotate(0deg);\r\n",
       "                   text-align: center;\">\r\n",
       "                                    ↑\r\n",
       "                                </td>\r\n",
       "                            </tr>\r\n",
       "                        \n",
       "\r\n",
       "                            <tr>\r\n",
       "                                <td>$\\left|1\\right\\rangle$</td>\r\n",
       "                                <td>$0.9924 + 0.0000 i$</td>\r\n",
       "                                <td>\r\n",
       "                                    <progress\r\n",
       "                                        max=\"100\"\r\n",
       "                                        value=\"98.48236451356038\"\r\n",
       "                                        style=\"width: 100%;\"\r\n",
       "                                    >\r\n",
       "                                </td>\r\n",
       "                                <td style=\"transform: rotate(0deg);\r\n",
       "                   text-align: center;\">\r\n",
       "                                    ↑\r\n",
       "                                </td>\r\n",
       "                            </tr>\r\n",
       "                        \r\n",
       "                        </tbody>\r\n",
       "                    </table>\r\n",
       "                "
      ],
      "text/plain": [
       "|0⟩\t0.12319234904975411 + 0𝑖\n",
       "|1⟩\t0.9923828117896862 + 0𝑖"
      ]
     },
     "metadata": {},
     "output_type": "display_data"
    },
    {
     "data": {
      "application/json": "{\"@type\":\"tuple\"}",
      "text/plain": [
       "()"
      ]
     },
     "execution_count": 46,
     "metadata": {},
     "output_type": "execute_result"
    }
   ],
   "source": [
    "%simulate EncodeDataDemo"
   ]
  }
 ],
 "metadata": {
  "kernelspec": {
   "display_name": "Q#",
   "language": "qsharp",
   "name": "iqsharp"
  },
  "language_info": {
   "file_extension": ".qs",
   "mimetype": "text/x-qsharp",
   "name": "qsharp",
   "version": "0.10"
  }
 },
 "nbformat": 4,
 "nbformat_minor": 2
}
